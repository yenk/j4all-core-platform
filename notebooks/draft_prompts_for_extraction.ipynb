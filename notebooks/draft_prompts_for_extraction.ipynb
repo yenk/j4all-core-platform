{
 "cells": [
  {
   "cell_type": "code",
   "execution_count": 4,
   "id": "8bb95d6d",
   "metadata": {},
   "outputs": [
    {
     "data": {
      "text/plain": [
       "True"
      ]
     },
     "execution_count": 4,
     "metadata": {},
     "output_type": "execute_result"
    }
   ],
   "source": [
    "from typing import List\n",
    "\n",
    "import pandas as pd\n",
    "from IPython.display import display, HTML\n",
    "from dotenv import load_dotenv\n",
    "import json\n",
    "\n",
    "import pymupdf4llm # pymupdf4llm must to be added to the requirememts\n",
    "from langchain_openai import ChatOpenAI\n",
    "from langchain.prompts import ChatPromptTemplate\n",
    "from langchain_core.output_parsers import JsonOutputParser\n",
    "\n",
    "import system_prompts\n",
    "\n",
    "load_dotenv()"
   ]
  },
  {
   "cell_type": "code",
   "execution_count": 5,
   "id": "18bb1e07",
   "metadata": {},
   "outputs": [],
   "source": [
    "# Define model and output parser\n",
    "model = ChatOpenAI(model=\"gpt-4o-mini\", temperature=0)\n",
    "output_parser = JsonOutputParser()\n",
    "\n",
    "# Extract PDF text as Markdown\n",
    "doc_path = \"../data/2025/Decision/OROURKE_06-05-25_7891__KING_AND_GEORGE_LLC (DECISION).pdf\"\n",
    "md_text = pymupdf4llm.to_markdown(doc_path)\n",
    "\n",
    "# Create chat prompt teamplates\n",
    "fact_pattern_exctraction_prompt = ChatPromptTemplate.from_messages(\n",
    "    [\n",
    "        (\n",
    "            \"system\", \n",
    "            system_prompts.FACT_PATTERN_EXTRACTION_PROMPT\n",
    "        ),\n",
    "        (\"user\", \"{user_input}\"),\n",
    "    ]\n",
    ")\n",
    "\n",
    "applicable_rules_of_evidence_prompt = ChatPromptTemplate.from_messages(\n",
    "    [\n",
    "        (\n",
    "            \"system\", \n",
    "            system_prompts.APPICLABLE_RULES_OF_EVIDENCE_EXTRACTION_PROMPT\n",
    "        ),\n",
    "        (\"user\", \"{user_input}\"),\n",
    "    ]\n",
    ")\n",
    "\n",
    "substantive_rules_exctraction_prompt = ChatPromptTemplate.from_messages(\n",
    "    [\n",
    "        (\n",
    "            \"system\", \n",
    "            system_prompts.SUBSTANTIVE_RULES_EXTRACTION_PROMPT\n",
    "        ),\n",
    "        (\"user\", \"{user_input}\"),\n",
    "    ]\n",
    ")\n",
    "\n",
    "substantive_rules_with_pdf_exctraction_prompt = ChatPromptTemplate.from_messages(\n",
    "    [\n",
    "        (\n",
    "            \"system\", \n",
    "            system_prompts.SUBSTANTIVE_RULES_WITH_PDF_EXTRACTION_PROMPT\n",
    "        ),\n",
    "        (\"user\", \"{user_input}\"),\n",
    "    ]\n",
    ")\n",
    "\n",
    "\n",
    "# Create the chains\n",
    "fact_pattern_exctraction_chain = fact_pattern_exctraction_prompt | model | output_parser\n",
    "applicable_rules_of_evidence_exctraction_chain = applicable_rules_of_evidence_prompt | model | output_parser\n",
    "susbstantive_rules_exctraction_chain = substantive_rules_exctraction_prompt | model | output_parser\n",
    "substantive_rules_with_pdf_exctraction_chain = substantive_rules_with_pdf_exctraction_prompt | model | output_parser"
   ]
  },
  {
   "cell_type": "markdown",
   "id": "438d9f29",
   "metadata": {},
   "source": [
    "### Extract the Fact Pattern from the Court Desicion PDF"
   ]
  },
  {
   "cell_type": "code",
   "execution_count": 13,
   "id": "1f490ea6",
   "metadata": {},
   "outputs": [
    {
     "name": "stdout",
     "output_type": "stream",
     "text": [
      "['In January 2018, GSA issued a solicitation for facilities operations and maintenance services for nine federal buildings in Florida.', 'The solicitation sought proposals for a firm-fixed-price contract from small businesses under the 8(a) program and established a period of performance of one base year and three option years.', 'On March 3, 2021, K&G submitted an offer in response to the solicitation.', 'GSA awarded the contract, which incorporated the solicitation terms discussed above, to K&G on April 20, 2021.', 'Despite not being fully staffed consistent with the minimum required staffing levels at all facilities, K&G began performing the base year of the contract on June 1, 2021.', 'The parties used a spreadsheet (the FTE tracker) to identify and track vacant positions.', \"On July 8, 2021, the agency’s building management specialist emailed K&G’s project manager stating, 'After discussing the situation with the acquisition team, including the Contracting Officer, it has been decided that deductions will be taken for any employee that was not working on-site, 'boots on the ground', for the month of June.'\", 'GSA used the FTE Tracker to calculate and assess deductions against K&G for vacant positions and daily absences.', \"For the first month of the base year (June 2021), the deductions worksheet showed the following: ten of the fifty-five positions were vacant, thirty-four of the positions were 'currently on-site but in final fitness review,' ten positions showed that the CIWs had been submitted, and one new employee entered on duty.\", 'In November 2021, K&G reached out to its Tampa-based subcontractor, Frontline Enterprises, LLC (Frontline), informing Frontline that GSA had been assessing deductions against K&G for staffing vacancies and that K&G intended to pass those deductions on to Frontline.', 'On July 23, 2021, the parties executed a bilateral agreement (modification no. PS0001), which deobligated $130,823.53 from the contract price for June 2021, the first month of performance.', 'Although the parties followed the same procedure for the remaining months of the base year (assessing deductions for staffing vacancies and absences, then paying monthly invoices in amounts that reflected those deductions), the parties did not execute monthly bilateral modifications to deobligate the deducted funds.', 'On April 20, 2022, GSA issued the modification unilaterally, deobligating all $742,931.51 in funds remaining on the base year of the contract.', 'By letter to the contracting officer, dated February 6, 2023, K&G explained that it had not signed modification PS0007 because it objected to GSA’s assessment of deductions against K&G for staffing vacancies.', 'On April 27, 2023, K&G submitted a certified claim to the contracting officer disputing the deductions and seeking payment in the amount of $742,931.51.']\n"
     ]
    }
   ],
   "source": [
    "doc_path = \"data/2025/Decision/OROURKE_06-05-25_7891__KING_AND_GEORGE_LLC (DECISION).pdf\"\n",
    "md_text = pymupdf4llm.to_markdown(doc_path)\n",
    "\n",
    "fact_pattern_exctraction_input_params = {\"user_input\": md_text}\n",
    "fact_pattern_exctraction_response = fact_pattern_exctraction_chain.invoke(fact_pattern_exctraction_input_params)\n",
    "\n",
    "print(fact_pattern_exctraction_response)"
   ]
  },
  {
   "cell_type": "markdown",
   "id": "672d70db",
   "metadata": {},
   "source": [
    "### Extract the Applicable Rules Of Evidence from the Fact Pattern"
   ]
  },
  {
   "cell_type": "code",
   "execution_count": 15,
   "id": "afc185f8",
   "metadata": {},
   "outputs": [
    {
     "name": "stdout",
     "output_type": "stream",
     "text": [
      "[{'rule_number': 'FRE 401', 'rule_title': 'Test for Relevant Evidence', 'issue': 'Relevance of evidence regarding staffing levels and deductions.', 'application': \"The evidence regarding K&G's staffing levels and the deductions assessed by GSA is relevant to determine whether K&G fulfilled its contractual obligations.\", 'arguments_for_admissibility': \"The evidence directly relates to K&G's performance under the contract and the basis for the deductions, which is central to the dispute.\", 'arguments_against_admissibility': 'There may be arguments that the evidence is overly prejudicial or that it does not directly pertain to the specific claims being made.', 'likely_admissibility': 'admissible', 'triggering_facts': [4, 6, 7, 8, 9, 10, 11]}, {'rule_number': 'FRE 402', 'rule_title': 'General Admissibility of Relevant Evidence', 'issue': 'General admissibility of evidence related to contract performance.', 'application': 'All relevant evidence is generally admissible unless otherwise excluded by law.', 'arguments_for_admissibility': 'The evidence is relevant to the issues at hand and does not fall under any exclusionary rules.', 'arguments_against_admissibility': 'Potential arguments could be made regarding the relevance of specific details or the clarity of the evidence presented.', 'likely_admissibility': 'admissible', 'triggering_facts': [4, 6, 7, 8, 9, 10, 11]}, {'rule_number': 'FRE 403', 'rule_title': 'Exclusion of Relevant Evidence on Grounds of Prejudice, Confusion, or Waste of Time', 'issue': 'Potential for evidence to cause unfair prejudice or confusion.', 'application': 'While the evidence is relevant, there may be concerns that it could lead to unfair prejudice against K&G or confuse the jury regarding the contractual obligations.', 'arguments_for_admissibility': 'The probative value of the evidence outweighs any potential prejudicial effect, as it is crucial for understanding the contractual relationship.', 'arguments_against_admissibility': 'The evidence may distract from the main issues or lead to a misunderstanding of the contractual obligations.', 'likely_admissibility': 'depends', 'triggering_facts': [4, 6, 7, 8, 9, 10, 11]}, {'rule_number': 'FRE 801', 'rule_title': 'Definitions That Apply to This Article; Exclusions from Hearsay', 'issue': 'Hearsay implications of communications between K&G and GSA.', 'application': 'The email from the building management specialist may be considered hearsay if offered to prove the truth of the matter asserted regarding deductions.', 'arguments_for_admissibility': 'The email may be admissible as a statement of a party opponent or for a non-hearsay purpose, such as showing notice.', 'arguments_against_admissibility': 'If offered to prove the truth of the deductions, it could be excluded as hearsay.', 'likely_admissibility': 'depends', 'triggering_facts': [6]}, {'rule_number': 'FRE 803', 'rule_title': 'Exceptions to the Rule Against Hearsay', 'issue': 'Exceptions that may apply to hearsay statements.', 'application': 'Certain statements made in the course of business, such as the email regarding deductions, may fall under exceptions to the hearsay rule.', 'arguments_for_admissibility': 'The email may qualify as a business record or a statement made by an agent of a party.', 'arguments_against_admissibility': 'The context of the statement may not meet the criteria for a hearsay exception.', 'likely_admissibility': 'depends', 'triggering_facts': [6]}]\n"
     ]
    }
   ],
   "source": [
    "applicable_rules_of_evidence_exctraction_input_params = { \"user_input\": fact_pattern_exctraction_response}\n",
    "applicable_rules_of_evidence_exctraction_response = applicable_rules_of_evidence_exctraction_chain.invoke(\n",
    "    applicable_rules_of_evidence_exctraction_input_params\n",
    ")\n",
    "\n",
    "print(applicable_rules_of_evidence_exctraction_response)"
   ]
  },
  {
   "cell_type": "markdown",
   "id": "95bf9fec",
   "metadata": {},
   "source": [
    "### Extract the Substantive Rules from the Fact Pattern"
   ]
  },
  {
   "cell_type": "code",
   "execution_count": 19,
   "id": "a341bcc7",
   "metadata": {},
   "outputs": [
    {
     "name": "stdout",
     "output_type": "stream",
     "text": [
      "[{'rule_label': 'Firm-Fixed-Price Contract Principles', 'rule_source': 'FAR 16.202-1', 'legal_issue': 'Whether deductions for staffing vacancies are permissible under a firm-fixed-price contract.', 'rule_summary': 'Under a firm-fixed-price contract, the contractor is responsible for delivering the agreed-upon services regardless of the costs incurred.', 'application': 'K&G, as the contractor, is obligated to meet the staffing requirements outlined in the contract. The deductions made by GSA for staffing vacancies are consistent with the principle that the contractor bears the risk of performance.', 'supporting_arguments': ['The contract explicitly requires K&G to maintain minimum staffing levels.', 'Deductions for unstaffed positions are a reasonable enforcement of contract terms.'], 'counter_arguments': ['K&G may argue that the deductions are punitive rather than reflective of actual performance.', 'K&G could contend that the contract did not specify the consequences of staffing shortages.'], 'likely_outcome': 'applies', 'triggering_facts': [1, 4, 6, 8]}, {'rule_label': 'Modification of Contracts', 'rule_source': 'FAR 43.103', 'legal_issue': 'Whether the unilateral modification by GSA to deobligate funds was valid.', 'rule_summary': 'A contracting officer may unilaterally modify a contract to reflect changes in the contract terms or to deobligate funds.', 'application': \"GSA's unilateral modification to deobligate funds was within its authority as the contracting officer, especially given the ongoing deductions for staffing vacancies.\", 'supporting_arguments': ['The FAR allows for unilateral modifications in certain circumstances.', 'The deductions were based on contract performance metrics, justifying the deobligation of funds.'], 'counter_arguments': ['K&G may argue that the unilateral modification was improper due to lack of mutual agreement.', 'K&G could claim that the deductions were not justified, thus invalidating the basis for the modification.'], 'likely_outcome': 'applies', 'triggering_facts': [7, 8, 9]}, {'rule_label': 'Contract Disputes Act', 'rule_source': 'Contract Disputes Act of 1978', 'legal_issue': \"Whether K&G's claim regarding the deductions is properly before the contracting officer.\", 'rule_summary': 'The Contract Disputes Act provides a framework for resolving disputes between contractors and the government, requiring claims to be submitted to the contracting officer.', 'application': \"K&G's submission of a certified claim to the contracting officer is a necessary step under the Contract Disputes Act, allowing for formal dispute resolution regarding the deductions.\", 'supporting_arguments': ['K&G followed the proper procedure by submitting a certified claim.', 'The Act mandates that disputes be resolved through the contracting officer before further action.'], 'counter_arguments': [\"GSA may argue that K&G's claim is untimely or improperly submitted.\", 'There may be questions about whether K&G adequately documented its objections to the deductions.'], 'likely_outcome': 'uncertain', 'triggering_facts': [10, 11]}]\n"
     ]
    }
   ],
   "source": [
    "substantive_rules_exctraction_input_params = { \"user_input\": fact_pattern_exctraction_response}\n",
    "substantive_rules_exctraction_response = susbstantive_rules_exctraction_chain.invoke(\n",
    "    substantive_rules_exctraction_input_params\n",
    ")\n",
    "\n",
    "print(substantive_rules_exctraction_response)"
   ]
  },
  {
   "cell_type": "markdown",
   "id": "11fb3841",
   "metadata": {},
   "source": [
    "### Extract the Substantive Rules from the Fact Pattern+Court Decision PDF Content"
   ]
  },
  {
   "cell_type": "code",
   "execution_count": 23,
   "id": "754a373c",
   "metadata": {},
   "outputs": [
    {
     "name": "stdout",
     "output_type": "stream",
     "text": [
      "[{'rule_label': 'Firm-Fixed-Price Contract Principles', 'rule_source': 'FAR 52.216-4', 'legal_issue': 'Whether deductions for staffing vacancies are permissible under a firm-fixed-price contract.', 'rule_summary': 'Under a firm-fixed-price contract, the contractor is responsible for delivering the agreed-upon services regardless of the costs incurred, and deductions may only be made if explicitly allowed by the contract terms.', 'application': \"The GSA's deductions for staffing vacancies were assessed based on the terms of the contract, which required K&G to maintain minimum staffing levels. The deductions were applied despite K&G's objections, indicating a potential conflict with the contract's fixed-price nature.\", 'supporting_arguments': ['The contract explicitly required K&G to maintain certain staffing levels.', 'The GSA communicated the deduction policy clearly to K&G, indicating that deductions would be taken for unstaffed positions.'], 'counter_arguments': ['K&G may argue that the deductions were not explicitly allowed in the contract terms.', \"K&G could contend that the GSA's unilateral modification to deobligate funds was improper and not in accordance with the contract.\"], 'likely_outcome': 'uncertain', 'triggering_facts': [4, 6, 7, 8, 10]}, {'rule_label': 'Modification of Contracts', 'rule_source': 'Contract Disputes Act', 'legal_issue': 'Whether the unilateral modification by GSA to deobligate funds was valid.', 'rule_summary': 'A contracting officer may unilaterally modify a contract under certain conditions, but such modifications must comply with the terms of the contract and applicable regulations.', 'application': \"GSA's unilateral modification to deobligate funds raised questions about whether it adhered to the contractual obligations and whether K&G was properly notified and allowed to contest the deductions.\", 'supporting_arguments': ['The Contracting Officer has the authority to make unilateral modifications under the Contract Disputes Act.', \"The modifications were made in response to K&G's performance issues as outlined in the contract.\"], 'counter_arguments': ['K&G did not agree to the modifications, which may render them invalid.', 'The lack of bilateral modifications for subsequent months could indicate a failure to follow proper procedures.'], 'likely_outcome': 'uncertain', 'triggering_facts': [9, 10, 11]}, {'rule_label': 'Notice and Opportunity to Cure', 'rule_source': 'Common Law Principle', 'legal_issue': 'Whether K&G was given adequate notice and opportunity to address the staffing issues before deductions were applied.', 'rule_summary': 'Contractors are generally entitled to notice of deficiencies and an opportunity to cure before penalties or deductions are imposed.', 'application': 'K&G received notice of the deductions after the fact, which may not satisfy the requirement for adequate notice and opportunity to cure, potentially invalidating the deductions.', 'supporting_arguments': ['The email from GSA indicated a decision had been made without prior consultation with K&G.', \"K&G's objections to the deductions suggest they were not given a fair chance to address the staffing issues.\"], 'counter_arguments': ['GSA may argue that the contract terms allowed for immediate deductions based on staffing levels.', 'K&G was aware of the staffing requirements and should have ensured compliance.'], 'likely_outcome': 'applies', 'triggering_facts': [6, 8, 10]}]\n"
     ]
    }
   ],
   "source": [
    "substantive_rules_with_pdf_exctraction_input_params = {\n",
    "    \"pdf_content\": md_text,\n",
    "    \"user_input\": fact_pattern_exctraction_response\n",
    "}\n",
    "substantive_rules_with_pdf_exctraction_response = substantive_rules_with_pdf_exctraction_chain.invoke(\n",
    "    substantive_rules_with_pdf_exctraction_input_params\n",
    ")\n",
    "\n",
    "print(substantive_rules_with_pdf_exctraction_response)"
   ]
  },
  {
   "cell_type": "markdown",
   "id": "88613e4d",
   "metadata": {},
   "source": [
    "### Visualization"
   ]
  },
  {
   "cell_type": "code",
   "execution_count": 27,
   "id": "45a373dc",
   "metadata": {},
   "outputs": [
    {
     "name": "stdout",
     "output_type": "stream",
     "text": [
      "0. In January 2018, GSA issued a solicitation for facilities operations and maintenance services for nine federal buildings in Florida.\n",
      "1. The solicitation sought proposals for a firm-fixed-price contract from small businesses under the 8(a) program and established a period of performance of one base year and three option years.\n",
      "2. On March 3, 2021, K&G submitted an offer in response to the solicitation.\n",
      "3. GSA awarded the contract, which incorporated the solicitation terms discussed above, to K&G on April 20, 2021.\n",
      "4. Despite not being fully staffed consistent with the minimum required staffing levels at all facilities, K&G began performing the base year of the contract on June 1, 2021.\n",
      "5. The parties used a spreadsheet (the FTE tracker) to identify and track vacant positions.\n",
      "6. On July 8, 2021, the agency’s building management specialist emailed K&G’s project manager stating, 'After discussing the situation with the acquisition team, including the Contracting Officer, it has been decided that deductions will be taken for any employee that was not working on-site, 'boots on the ground', for the month of June.'\n",
      "7. GSA used the FTE Tracker to calculate and assess deductions against K&G for vacant positions and daily absences.\n",
      "8. For the first month of the base year (June 2021), the deductions worksheet showed the following: ten of the fifty-five positions were vacant, thirty-four of the positions were 'currently on-site but in final fitness review,' ten positions showed that the CIWs had been submitted, and one new employee entered on duty.\n",
      "9. In November 2021, K&G reached out to its Tampa-based subcontractor, Frontline Enterprises, LLC (Frontline), informing Frontline that GSA had been assessing deductions against K&G for staffing vacancies and that K&G intended to pass those deductions on to Frontline.\n",
      "10. On July 23, 2021, the parties executed a bilateral agreement (modification no. PS0001), which deobligated $130,823.53 from the contract price for June 2021, the first month of performance.\n",
      "11. Although the parties followed the same procedure for the remaining months of the base year (assessing deductions for staffing vacancies and absences, then paying monthly invoices in amounts that reflected those deductions), the parties did not execute monthly bilateral modifications to deobligate the deducted funds.\n",
      "12. On April 20, 2022, GSA issued the modification unilaterally, deobligating all $742,931.51 in funds remaining on the base year of the contract.\n",
      "13. By letter to the contracting officer, dated February 6, 2023, K&G explained that it had not signed modification PS0007 because it objected to GSA’s assessment of deductions against K&G for staffing vacancies.\n",
      "14. On April 27, 2023, K&G submitted a certified claim to the contracting officer disputing the deductions and seeking payment in the amount of $742,931.51.\n"
     ]
    }
   ],
   "source": [
    "# Fact Pattern\n",
    "for i, fact in enumerate(fact_pattern_exctraction_response):\n",
    "    print(f\"{i}. {fact}\")"
   ]
  },
  {
   "cell_type": "code",
   "execution_count": null,
   "id": "9121a5f8",
   "metadata": {},
   "outputs": [
    {
     "data": {
      "text/html": [
       "<div>\n",
       "<style scoped>\n",
       "    .dataframe tbody tr th:only-of-type {\n",
       "        vertical-align: middle;\n",
       "    }\n",
       "\n",
       "    .dataframe tbody tr th {\n",
       "        vertical-align: top;\n",
       "    }\n",
       "\n",
       "    .dataframe thead th {\n",
       "        text-align: right;\n",
       "    }\n",
       "</style>\n",
       "<table border=\"1\" class=\"dataframe\">\n",
       "  <thead>\n",
       "    <tr style=\"text-align: right;\">\n",
       "      <th></th>\n",
       "      <th>rule_number</th>\n",
       "      <th>rule_title</th>\n",
       "      <th>issue</th>\n",
       "      <th>application</th>\n",
       "      <th>arguments_for_admissibility</th>\n",
       "      <th>arguments_against_admissibility</th>\n",
       "      <th>likely_admissibility</th>\n",
       "      <th>triggering_facts</th>\n",
       "    </tr>\n",
       "  </thead>\n",
       "  <tbody>\n",
       "    <tr>\n",
       "      <th>0</th>\n",
       "      <td>FRE 401</td>\n",
       "      <td>Test for Relevant Evidence</td>\n",
       "      <td>Relevance of evidence regarding staffing level...</td>\n",
       "      <td>The evidence regarding K&amp;G's staffing levels a...</td>\n",
       "      <td>The evidence directly relates to K&amp;G's perform...</td>\n",
       "      <td>There may be arguments that the evidence is ov...</td>\n",
       "      <td>admissible</td>\n",
       "      <td>[4, 6, 7, 8, 9, 10, 11]</td>\n",
       "    </tr>\n",
       "    <tr>\n",
       "      <th>1</th>\n",
       "      <td>FRE 402</td>\n",
       "      <td>General Admissibility of Relevant Evidence</td>\n",
       "      <td>General admissibility of evidence related to c...</td>\n",
       "      <td>All relevant evidence is generally admissible ...</td>\n",
       "      <td>The evidence is relevant to the issues at hand...</td>\n",
       "      <td>Potential arguments could be made regarding th...</td>\n",
       "      <td>admissible</td>\n",
       "      <td>[4, 6, 7, 8, 9, 10, 11]</td>\n",
       "    </tr>\n",
       "    <tr>\n",
       "      <th>2</th>\n",
       "      <td>FRE 403</td>\n",
       "      <td>Exclusion of Relevant Evidence on Grounds of P...</td>\n",
       "      <td>Potential for evidence to cause unfair prejudi...</td>\n",
       "      <td>While the evidence is relevant, there may be c...</td>\n",
       "      <td>The probative value of the evidence outweighs ...</td>\n",
       "      <td>The evidence may distract from the main issues...</td>\n",
       "      <td>depends</td>\n",
       "      <td>[4, 6, 7, 8, 9, 10, 11]</td>\n",
       "    </tr>\n",
       "    <tr>\n",
       "      <th>3</th>\n",
       "      <td>FRE 801</td>\n",
       "      <td>Definitions That Apply to This Article; Exclus...</td>\n",
       "      <td>Hearsay implications of communications between...</td>\n",
       "      <td>The email from the building management special...</td>\n",
       "      <td>The email may be admissible as a statement of ...</td>\n",
       "      <td>If offered to prove the truth of the deduction...</td>\n",
       "      <td>depends</td>\n",
       "      <td>[6]</td>\n",
       "    </tr>\n",
       "    <tr>\n",
       "      <th>4</th>\n",
       "      <td>FRE 803</td>\n",
       "      <td>Exceptions to the Rule Against Hearsay</td>\n",
       "      <td>Exceptions that may apply to hearsay statements.</td>\n",
       "      <td>Certain statements made in the course of busin...</td>\n",
       "      <td>The email may qualify as a business record or ...</td>\n",
       "      <td>The context of the statement may not meet the ...</td>\n",
       "      <td>depends</td>\n",
       "      <td>[6]</td>\n",
       "    </tr>\n",
       "  </tbody>\n",
       "</table>\n",
       "</div>"
      ],
      "text/plain": [
       "  rule_number                                         rule_title  \\\n",
       "0     FRE 401                         Test for Relevant Evidence   \n",
       "1     FRE 402         General Admissibility of Relevant Evidence   \n",
       "2     FRE 403  Exclusion of Relevant Evidence on Grounds of P...   \n",
       "3     FRE 801  Definitions That Apply to This Article; Exclus...   \n",
       "4     FRE 803             Exceptions to the Rule Against Hearsay   \n",
       "\n",
       "                                               issue  \\\n",
       "0  Relevance of evidence regarding staffing level...   \n",
       "1  General admissibility of evidence related to c...   \n",
       "2  Potential for evidence to cause unfair prejudi...   \n",
       "3  Hearsay implications of communications between...   \n",
       "4   Exceptions that may apply to hearsay statements.   \n",
       "\n",
       "                                         application  \\\n",
       "0  The evidence regarding K&G's staffing levels a...   \n",
       "1  All relevant evidence is generally admissible ...   \n",
       "2  While the evidence is relevant, there may be c...   \n",
       "3  The email from the building management special...   \n",
       "4  Certain statements made in the course of busin...   \n",
       "\n",
       "                         arguments_for_admissibility  \\\n",
       "0  The evidence directly relates to K&G's perform...   \n",
       "1  The evidence is relevant to the issues at hand...   \n",
       "2  The probative value of the evidence outweighs ...   \n",
       "3  The email may be admissible as a statement of ...   \n",
       "4  The email may qualify as a business record or ...   \n",
       "\n",
       "                     arguments_against_admissibility likely_admissibility  \\\n",
       "0  There may be arguments that the evidence is ov...           admissible   \n",
       "1  Potential arguments could be made regarding th...           admissible   \n",
       "2  The evidence may distract from the main issues...              depends   \n",
       "3  If offered to prove the truth of the deduction...              depends   \n",
       "4  The context of the statement may not meet the ...              depends   \n",
       "\n",
       "          triggering_facts  \n",
       "0  [4, 6, 7, 8, 9, 10, 11]  \n",
       "1  [4, 6, 7, 8, 9, 10, 11]  \n",
       "2  [4, 6, 7, 8, 9, 10, 11]  \n",
       "3                      [6]  \n",
       "4                      [6]  "
      ]
     },
     "execution_count": 25,
     "metadata": {},
     "output_type": "execute_result"
    }
   ],
   "source": [
    "# Applicable Rules of Evidence\n",
    "applicable_rules_of_evidence = pd.DataFrame(applicable_rules_of_evidence_exctraction_response)\n",
    "applicable_rules_of_evidence"
   ]
  },
  {
   "cell_type": "code",
   "execution_count": 28,
   "id": "b9e0aa74",
   "metadata": {},
   "outputs": [
    {
     "data": {
      "text/html": [
       "<div>\n",
       "<style scoped>\n",
       "    .dataframe tbody tr th:only-of-type {\n",
       "        vertical-align: middle;\n",
       "    }\n",
       "\n",
       "    .dataframe tbody tr th {\n",
       "        vertical-align: top;\n",
       "    }\n",
       "\n",
       "    .dataframe thead th {\n",
       "        text-align: right;\n",
       "    }\n",
       "</style>\n",
       "<table border=\"1\" class=\"dataframe\">\n",
       "  <thead>\n",
       "    <tr style=\"text-align: right;\">\n",
       "      <th></th>\n",
       "      <th>rule_label</th>\n",
       "      <th>rule_source</th>\n",
       "      <th>legal_issue</th>\n",
       "      <th>rule_summary</th>\n",
       "      <th>application</th>\n",
       "      <th>supporting_arguments</th>\n",
       "      <th>counter_arguments</th>\n",
       "      <th>likely_outcome</th>\n",
       "      <th>triggering_facts</th>\n",
       "    </tr>\n",
       "  </thead>\n",
       "  <tbody>\n",
       "    <tr>\n",
       "      <th>0</th>\n",
       "      <td>Firm-Fixed-Price Contract Principles</td>\n",
       "      <td>FAR 52.216-4</td>\n",
       "      <td>Whether deductions for staffing vacancies are ...</td>\n",
       "      <td>Under a firm-fixed-price contract, the contrac...</td>\n",
       "      <td>The GSA's deductions for staffing vacancies we...</td>\n",
       "      <td>[The contract explicitly required K&amp;G to maint...</td>\n",
       "      <td>[K&amp;G may argue that the deductions were not ex...</td>\n",
       "      <td>uncertain</td>\n",
       "      <td>[4, 6, 7, 8, 10]</td>\n",
       "    </tr>\n",
       "    <tr>\n",
       "      <th>1</th>\n",
       "      <td>Modification of Contracts</td>\n",
       "      <td>Contract Disputes Act</td>\n",
       "      <td>Whether the unilateral modification by GSA to ...</td>\n",
       "      <td>A contracting officer may unilaterally modify ...</td>\n",
       "      <td>GSA's unilateral modification to deobligate fu...</td>\n",
       "      <td>[The Contracting Officer has the authority to ...</td>\n",
       "      <td>[K&amp;G did not agree to the modifications, which...</td>\n",
       "      <td>uncertain</td>\n",
       "      <td>[9, 10, 11]</td>\n",
       "    </tr>\n",
       "    <tr>\n",
       "      <th>2</th>\n",
       "      <td>Notice and Opportunity to Cure</td>\n",
       "      <td>Common Law Principle</td>\n",
       "      <td>Whether K&amp;G was given adequate notice and oppo...</td>\n",
       "      <td>Contractors are generally entitled to notice o...</td>\n",
       "      <td>K&amp;G received notice of the deductions after th...</td>\n",
       "      <td>[The email from GSA indicated a decision had b...</td>\n",
       "      <td>[GSA may argue that the contract terms allowed...</td>\n",
       "      <td>applies</td>\n",
       "      <td>[6, 8, 10]</td>\n",
       "    </tr>\n",
       "  </tbody>\n",
       "</table>\n",
       "</div>"
      ],
      "text/plain": [
       "                             rule_label            rule_source  \\\n",
       "0  Firm-Fixed-Price Contract Principles           FAR 52.216-4   \n",
       "1             Modification of Contracts  Contract Disputes Act   \n",
       "2        Notice and Opportunity to Cure   Common Law Principle   \n",
       "\n",
       "                                         legal_issue  \\\n",
       "0  Whether deductions for staffing vacancies are ...   \n",
       "1  Whether the unilateral modification by GSA to ...   \n",
       "2  Whether K&G was given adequate notice and oppo...   \n",
       "\n",
       "                                        rule_summary  \\\n",
       "0  Under a firm-fixed-price contract, the contrac...   \n",
       "1  A contracting officer may unilaterally modify ...   \n",
       "2  Contractors are generally entitled to notice o...   \n",
       "\n",
       "                                         application  \\\n",
       "0  The GSA's deductions for staffing vacancies we...   \n",
       "1  GSA's unilateral modification to deobligate fu...   \n",
       "2  K&G received notice of the deductions after th...   \n",
       "\n",
       "                                supporting_arguments  \\\n",
       "0  [The contract explicitly required K&G to maint...   \n",
       "1  [The Contracting Officer has the authority to ...   \n",
       "2  [The email from GSA indicated a decision had b...   \n",
       "\n",
       "                                   counter_arguments likely_outcome  \\\n",
       "0  [K&G may argue that the deductions were not ex...      uncertain   \n",
       "1  [K&G did not agree to the modifications, which...      uncertain   \n",
       "2  [GSA may argue that the contract terms allowed...        applies   \n",
       "\n",
       "   triggering_facts  \n",
       "0  [4, 6, 7, 8, 10]  \n",
       "1       [9, 10, 11]  \n",
       "2        [6, 8, 10]  "
      ]
     },
     "execution_count": 28,
     "metadata": {},
     "output_type": "execute_result"
    }
   ],
   "source": [
    "# Applicable Substantive Rules\n",
    "substantive_rules = pd.DataFrame(substantive_rules_with_pdf_exctraction_response)\n",
    "substantive_rules"
   ]
  },
  {
   "cell_type": "code",
   "execution_count": null,
   "id": "2f51dd11",
   "metadata": {},
   "outputs": [],
   "source": []
  }
 ],
 "metadata": {
  "kernelspec": {
   "display_name": "venv",
   "language": "python",
   "name": "python3"
  },
  "language_info": {
   "codemirror_mode": {
    "name": "ipython",
    "version": 3
   },
   "file_extension": ".py",
   "mimetype": "text/x-python",
   "name": "python",
   "nbconvert_exporter": "python",
   "pygments_lexer": "ipython3",
   "version": "3.12.9"
  }
 },
 "nbformat": 4,
 "nbformat_minor": 5
}
